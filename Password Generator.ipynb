{
 "cells": [
  {
   "cell_type": "markdown",
   "id": "b10fd8fc",
   "metadata": {},
   "source": [
    "# PASSWORD GENERATOR"
   ]
  },
  {
   "cell_type": "code",
   "execution_count": 1,
   "id": "c288f9e9",
   "metadata": {},
   "outputs": [
    {
     "name": "stdout",
     "output_type": "stream",
     "text": [
      "Enter password length (minimum 8): 10\n",
      "Include uppercase letters? (y/n): n\n",
      "Include lowercase letters? (y/n): y\n",
      "Include numbers? (y/n): y\n",
      "Include special characters? (y/n): y\n",
      "\n",
      "Your generated password: {vb9]\"<n[&\n"
     ]
    }
   ],
   "source": [
    "import random\n",
    "import string\n",
    "\n",
    "def generate_password(length=8, use_upper=True, use_lower=True, use_digits=True, use_special=True):\n",
    "    # Define the character sets\n",
    "    upper = string.ascii_uppercase if use_upper else \"\"\n",
    "    lower = string.ascii_lowercase if use_lower else \"\"\n",
    "    digits = string.digits if use_digits else \"\"\n",
    "    special = string.punctuation if use_special else \"\"\n",
    "    \n",
    "    # Combine all selected character sets\n",
    "    all_chars = upper + lower + digits + special\n",
    "    \n",
    "    if not all_chars:\n",
    "        print(\"Error: Please select at least one character set.\")\n",
    "        return \"\"\n",
    "    \n",
    "    # Generate the password\n",
    "    password = ''.join(random.choice(all_chars) for _ in range(length))\n",
    "    \n",
    "    return password\n",
    "\n",
    "# Get user input for password preferences\n",
    "try:\n",
    "    length = int(input(\"Enter password length (minimum 8): \"))\n",
    "    if length < 8:\n",
    "        print(\"Setting length to minimum of 8.\")\n",
    "        length = 8\n",
    "except ValueError:\n",
    "    print(\"Invalid input. Setting length to default (8).\")\n",
    "    length = 8\n",
    "\n",
    "use_upper = input(\"Include uppercase letters? (y/n): \").strip().lower() == 'y'\n",
    "use_lower = input(\"Include lowercase letters? (y/n): \").strip().lower() == 'y'\n",
    "use_digits = input(\"Include numbers? (y/n): \").strip().lower() == 'y'\n",
    "use_special = input(\"Include special characters? (y/n): \").strip().lower() == 'y'\n",
    "\n",
    "# Generate and display the password\n",
    "password = generate_password(length, use_upper, use_lower, use_digits, use_special)\n",
    "if password:\n",
    "    print(f\"\\nYour generated password: {password}\")\n"
   ]
  },
  {
   "cell_type": "markdown",
   "id": "f9c6c82f",
   "metadata": {},
   "source": [
    "**Explanation**\n",
    "\n",
    "Character Sets: The code defines different character sets for uppercase letters, lowercase letters, digits, and special characters.\n",
    "\n",
    "User Preferences: The user specifies the length of the password and whether to include each character type. The program defaults to a minimum length of 8 if a shorter length is entered or if input is invalid.\n",
    "\n",
    "Password Generation: Based on the combined character set, it randomly selects characters to form the password of the specified length.\n",
    "\n",
    "Error Handling: If the user selects no character sets, it returns an error message."
   ]
  },
  {
   "cell_type": "code",
   "execution_count": null,
   "id": "701dcfee",
   "metadata": {},
   "outputs": [],
   "source": []
  }
 ],
 "metadata": {
  "kernelspec": {
   "display_name": "Python 3 (ipykernel)",
   "language": "python",
   "name": "python3"
  },
  "language_info": {
   "codemirror_mode": {
    "name": "ipython",
    "version": 3
   },
   "file_extension": ".py",
   "mimetype": "text/x-python",
   "name": "python",
   "nbconvert_exporter": "python",
   "pygments_lexer": "ipython3",
   "version": "3.11.5"
  }
 },
 "nbformat": 4,
 "nbformat_minor": 5
}
